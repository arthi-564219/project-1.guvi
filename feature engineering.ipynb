{
 "cells": [
  {
   "cell_type": "code",
   "execution_count": 17,
   "id": "a18b8e5b",
   "metadata": {},
   "outputs": [],
   "source": [
    "import pandas as pd\n",
    "\n",
    "data = {\n",
    "    'restaurant_name': ['Spice Villa', 'Urban Bites'],\n",
    "    'restaurant_type': ['Fine Dining', 'Fast Food'],\n",
    "    'price_range': ['High', 'Low']\n",
    "}\n",
    "\n",
    "df = pd.DataFrame(data)\n"
   ]
  },
  {
   "cell_type": "code",
   "execution_count": 18,
   "id": "c668daa3",
   "metadata": {},
   "outputs": [],
   "source": [
    "# One-hot encoding\n",
    "df = pd.get_dummies(df, columns=['restaurant_type'])\n",
    "\n",
    "# Ordinal encoding\n",
    "df['price_range'] = df['price_range'].map({'Low': 1, 'Medium': 2, 'High': 3})\n"
   ]
  },
  {
   "cell_type": "code",
   "execution_count": 19,
   "id": "aa38c546",
   "metadata": {},
   "outputs": [],
   "source": [
    "import numpy as np\n",
    "\n",
    "df['rating'] = np.random.uniform(1.0, 5.0, size=len(df)).round(1)\n"
   ]
  },
  {
   "cell_type": "code",
   "execution_count": 20,
   "id": "9ca9c36c",
   "metadata": {},
   "outputs": [
    {
     "name": "stdout",
     "output_type": "stream",
     "text": [
      "  restaurant_name  price_range  restaurant_type_Fast Food  \\\n",
      "0     Spice Villa            3                      False   \n",
      "1     Urban Bites            1                       True   \n",
      "\n",
      "   restaurant_type_Fine Dining  rating  \n",
      "0                         True     1.1  \n",
      "1                        False     2.3  \n",
      "['restaurant_name', 'price_range', 'restaurant_type_Fast Food', 'restaurant_type_Fine Dining', 'rating']\n"
     ]
    }
   ],
   "source": [
    "print(df.head())\n",
    "print(df.columns.tolist())\n"
   ]
  }
 ],
 "metadata": {
  "kernelspec": {
   "display_name": "Python 3",
   "language": "python",
   "name": "python3"
  },
  "language_info": {
   "codemirror_mode": {
    "name": "ipython",
    "version": 3
   },
   "file_extension": ".py",
   "mimetype": "text/x-python",
   "name": "python",
   "nbconvert_exporter": "python",
   "pygments_lexer": "ipython3",
   "version": "3.13.2"
  }
 },
 "nbformat": 4,
 "nbformat_minor": 5
}
