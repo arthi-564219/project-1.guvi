{
 "cells": [
  {
   "cell_type": "code",
   "execution_count": 42,
   "id": "b284dfda",
   "metadata": {},
   "outputs": [
    {
     "name": "stdout",
     "output_type": "stream",
     "text": [
      "Current working directory: c:\\Users\\SATHYA COMPUTERS\\Documents\\swiggy's restaurant streamlit.project4\n"
     ]
    }
   ],
   "source": [
    "import os\n",
    "print(\"Current working directory:\", os.getcwd())\n"
   ]
  },
  {
   "cell_type": "code",
   "execution_count": 43,
   "id": "7cd6f95a",
   "metadata": {},
   "outputs": [
    {
     "name": "stdout",
     "output_type": "stream",
     "text": [
      "Current working directory: c:\\Users\\SATHYA COMPUTERS\\Documents\\swiggy's restaurant streamlit.project4\n"
     ]
    }
   ],
   "source": [
    "#import in the operating system\n",
    "import os\n",
    "print(\"Current working directory:\", os.getcwd())\n"
   ]
  },
  {
   "cell_type": "code",
   "execution_count": 44,
   "id": "a3a74381",
   "metadata": {},
   "outputs": [
    {
     "name": "stderr",
     "output_type": "stream",
     "text": [
      "A subdirectory or file data already exists.\n"
     ]
    }
   ],
   "source": [
    "mkdir data\n"
   ]
  },
  {
   "cell_type": "code",
   "execution_count": 45,
   "id": "139824b8",
   "metadata": {},
   "outputs": [
    {
     "name": "stdout",
     "output_type": "stream",
     "text": [
      "📁 Files in the current folder:\n",
      "['data', 'data cleaning preprocessing.ipynb', 'data processin.ipynb', 'feature engineering.ipynb', 'install function.ipynb', 'Recommendation System.ipynb', 'streamlit.ipynb']\n",
      "\n",
      "📂 Files inside 'data' folder (if exists):\n",
      "[]\n"
     ]
    }
   ],
   "source": [
    "import os\n",
    "\n",
    "print(\"📁 Files in the current folder:\")\n",
    "print(os.listdir())  # List everything in current directory\n",
    "\n",
    "print(\"\\n📂 Files inside 'data' folder (if exists):\")\n",
    "if os.path.exists('data'):\n",
    "    print(os.listdir('data'))\n",
    "else:\n",
    "    print(\"❌ Folder 'data' does not exist.\")\n"
   ]
  },
  {
   "cell_type": "code",
   "execution_count": 46,
   "id": "610f2115",
   "metadata": {},
   "outputs": [
    {
     "name": "stdout",
     "output_type": "stream",
     "text": [
      "📁 Files in the current directory:\n",
      "['data', 'data cleaning preprocessing.ipynb', 'data processin.ipynb', 'feature engineering.ipynb', 'install function.ipynb', 'Recommendation System.ipynb', 'streamlit.ipynb']\n",
      "\n",
      "📂 Files inside 'data' folder:\n",
      "[]\n"
     ]
    }
   ],
   "source": [
    "import os\n",
    "\n",
    "print(\"📁 Files in the current directory:\")\n",
    "print(os.listdir())\n",
    "\n",
    "# If there's a 'data' folder, list files inside it\n",
    "if os.path.exists(\"data\"):\n",
    "    print(\"\\n📂 Files inside 'data' folder:\")\n",
    "    print(os.listdir(\"data\"))\n",
    "else:\n",
    "    print(\"\\n❌ Folder 'data' does not exist.\")\n"
   ]
  },
  {
   "cell_type": "code",
   "execution_count": 47,
   "id": "86f73427",
   "metadata": {},
   "outputs": [
    {
     "name": "stdout",
     "output_type": "stream",
     "text": [
      "c:\\Users\\SATHYA COMPUTERS\\Documents\\swiggy's restaurant streamlit.project4\n"
     ]
    }
   ],
   "source": [
    "import os\n",
    "print(os.getcwd())\n"
   ]
  },
  {
   "cell_type": "code",
   "execution_count": 48,
   "id": "daa5ac21",
   "metadata": {},
   "outputs": [
    {
     "name": "stdout",
     "output_type": "stream",
     "text": [
      "c:\\Users\\SATHYA COMPUTERS\\Documents\\swiggy's restaurant streamlit.project4\n"
     ]
    }
   ],
   "source": [
    "import os\n",
    "\n",
    "# Print the current working directory\n",
    "print(os.getcwd())\n"
   ]
  },
  {
   "cell_type": "code",
   "execution_count": 49,
   "id": "73c92884",
   "metadata": {},
   "outputs": [],
   "source": [
    "# Use raw string to avoid escape characters\n",
    "file_path = r\"C:/Users/SATHYA/Documents/Project/swiggy_data_final.csv\"\n",
    "\n",
    "# Or use forward slashes in the path\n",
    "# file_path = \"C:/Users/SATHYA/Documents/Project/swiggy_data_final.csv\"\n"
   ]
  },
  {
   "cell_type": "code",
   "execution_count": 50,
   "id": "b1e1dac9",
   "metadata": {},
   "outputs": [
    {
     "name": "stdout",
     "output_type": "stream",
     "text": [
      "File not found. Check the file path and try again.\n"
     ]
    }
   ],
   "source": [
    "import os\n",
    "\n",
    "# Check if the file exists\n",
    "if os.path.exists(file_path):\n",
    "    print(\"File found!\")\n",
    "    df = pd.read_csv(file_path)\n",
    "    print(df.head())\n",
    "else:\n",
    "    print(\"File not found. Check the file path and try again.\")\n"
   ]
  },
  {
   "cell_type": "code",
   "execution_count": 51,
   "id": "e608e60b",
   "metadata": {},
   "outputs": [],
   "source": [
    "file_path = r\"C:\\Users\\SATHYA\\Documents\\Project\\swiggy_data_final.csv\"\n"
   ]
  },
  {
   "cell_type": "code",
   "execution_count": 53,
   "metadata": {},
   "outputs": [
    {
     "name": "stdout",
     "output_type": "stream",
     "text": [
      "File not found. Check the path and file name.\n"
     ]
    }
   ],
   "source": [
    "import os\n",
    "import pandas as pd\n",
    "\n",
    "file_path = r\"C:\\Users\\SATHYA\\Documents\\Project\\swiggy_data_final.csv\"\n",
    "\n",
    "# Check if the file exists\n",
    "if os.path.exists(file_path):\n",
    "    print(\"File found!\")\n",
    "    df = pd.read_csv(file_path)\n",
    "    print(df.head())  # Preview the data\n",
    "else:\n",
    "    print(\"File not found. Check the path and file name.\")\n"
   ]
  },
  {
   "cell_type": "code",
   "execution_count": 54,
   "id": "5ed63731",
   "metadata": {},
   "outputs": [
    {
     "name": "stdout",
     "output_type": "stream",
     "text": [
      "c:\\Users\\SATHYA COMPUTERS\\Documents\\swiggy's restaurant streamlit.project4\n"
     ]
    }
   ],
   "source": [
    "import os\n",
    "print(os.getcwd())  # Prints the current working directory\n"
   ]
  },
  {
   "cell_type": "code",
   "execution_count": 55,
   "id": "dfef7e46",
   "metadata": {},
   "outputs": [],
   "source": [
    "file_path = \"swiggy_data_final.csv\"\n"
   ]
  },
  {
   "cell_type": "code",
   "execution_count": 56,
   "id": "f728c391",
   "metadata": {},
   "outputs": [
    {
     "name": "stdout",
     "output_type": "stream",
     "text": [
      "c:\\Users\\SATHYA COMPUTERS\\Documents\\swiggy's restaurant streamlit.project4\\swiggy_data_final.csv\n"
     ]
    }
   ],
   "source": [
    "import os\n",
    "file_path = \"swiggy_data_final.csv\"  # Your relative or full path\n",
    "print(os.path.abspath(file_path))\n"
   ]
  },
  {
   "cell_type": "code",
   "execution_count": 57,
   "id": "63bd7a79",
   "metadata": {},
   "outputs": [],
   "source": [
    "file_path = \"C:\\\\Users\\\\SATHYA\\\\Documents\\\\Project\\\\swiggy_data_final.csv\"\n"
   ]
  },
  {
   "cell_type": "code",
   "execution_count": 58,
   "metadata": {},
   "outputs": [
    {
     "name": "stdout",
     "output_type": "stream",
     "text": [
      "File not found. Double-check the path and file name.\n"
     ]
    }
   ],
   "source": [
    "import os\n",
    "\n",
    "# Replace with your file path\n",
    "file_path = r\"C:\\Users\\SATHYA\\Documents\\Project\\swiggy_data_final.csv\"\n",
    "\n",
    "# Check if the file exists\n",
    "if os.path.exists(file_path):\n",
    "    print(\"File found!\")\n",
    "    import pandas as pd\n",
    "    df = pd.read_csv(file_path)\n",
    "    print(df.head())\n",
    "else:\n",
    "    print(\"File not found. Double-check the path and file name.\")\n"
   ]
  },
  {
   "cell_type": "code",
   "execution_count": 59,
   "id": "7518a625",
   "metadata": {},
   "outputs": [],
   "source": [
    "file_path = \"C:/Users/SATHYA/Documents/Project/swiggy_data_final.csv\"\n"
   ]
  },
  {
   "cell_type": "code",
   "execution_count": 60,
   "id": "bab5e9c9",
   "metadata": {},
   "outputs": [
    {
     "name": "stdout",
     "output_type": "stream",
     "text": [
      "3.13.2 (tags/v3.13.2:4f8bb39, Feb  4 2025, 15:23:48) [MSC v.1942 64 bit (AMD64)]\n"
     ]
    }
   ],
   "source": [
    "import sys\n",
    "print(sys.version)\n"
   ]
  },
  {
   "cell_type": "code",
   "execution_count": 61,
   "id": "38f8b954",
   "metadata": {},
   "outputs": [
    {
     "name": "stdout",
     "output_type": "stream",
     "text": [
      "c:\\Users\\SATHYA COMPUTERS\\Documents\\swiggy's restaurant streamlit.project4\n"
     ]
    }
   ],
   "source": [
    "import os\n",
    "print(os.getcwd())  # This will print the current working directory\n"
   ]
  },
  {
   "cell_type": "code",
   "execution_count": 62,
   "id": "20036d3d",
   "metadata": {},
   "outputs": [
    {
     "name": "stdout",
     "output_type": "stream",
     "text": [
      "The file at test.csv does not exist. Check the file path.\n"
     ]
    }
   ],
   "source": [
    "import os\n",
    "file_path = \"test.csv\"  # Replace with the actual path\n",
    "if os.path.exists(file_path):\n",
    "    df = pd.read_csv(file_path)\n",
    "    print(df.head())\n",
    "else:\n",
    "    print(f\"The file at {file_path} does not exist. Check the file path.\")\n"
   ]
  }
 ],
 "metadata": {
  "kernelspec": {
   "display_name": "Python 3",
   "language": "python",
   "name": "python3"
  },
  "language_info": {
   "codemirror_mode": {
    "name": "ipython",
    "version": 3
   },
   "file_extension": ".py",
   "mimetype": "text/x-python",
   "name": "python",
   "nbconvert_exporter": "python",
   "pygments_lexer": "ipython3",
   "version": "3.13.2"
  }
 },
 "nbformat": 4,
 "nbformat_minor": 5
}
