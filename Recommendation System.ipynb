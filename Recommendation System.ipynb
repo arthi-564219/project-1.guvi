{
 "cells": [
  {
   "cell_type": "code",
   "execution_count": 83,
   "id": "f1a32747",
   "metadata": {},
   "outputs": [
    {
     "name": "stdout",
     "output_type": "stream",
     "text": [
      "1    Restaurant B\n",
      "3    Restaurant D\n",
      "2    Restaurant C\n",
      "Name: restaurant_name, dtype: object\n"
     ]
    }
   ],
   "source": [
    "import pandas as pd\n",
    "from sklearn.feature_extraction.text import TfidfVectorizer\n",
    "from sklearn.metrics.pairwise import cosine_similarity\n",
    "\n",
    "# Example DataFrame (you can replace this with your actual DataFrame)\n",
    "data = {'restaurant_name': ['Restaurant A', 'Restaurant B', 'Restaurant C', 'Restaurant D'],\n",
    "        'cuisine': ['Italian food with pasta and pizza', 'Pizza and Italian food', 'Indian cuisine with biryani and curry', 'Mexican food with tacos and burritos']}\n",
    "df = pd.DataFrame(data)\n",
    "\n",
    "# TF-IDF Vectorization\n",
    "tfidf = TfidfVectorizer(stop_words='english')\n",
    "tfidf_matrix = tfidf.fit_transform(df['cuisine'])\n",
    "\n",
    "# Cosine Similarity\n",
    "cosine_sim = cosine_similarity(tfidf_matrix, tfidf_matrix)\n",
    "\n",
    "# Restaurant index mapping\n",
    "indices = pd.Series(df.index, index=df['restaurant_name']).drop_duplicates()\n",
    "\n",
    "# Function to get restaurant recommendations\n",
    "def get_recommendations(name, cosine_sim=cosine_sim):\n",
    "    idx = indices[name]\n",
    "    sim_scores = list(enumerate(cosine_sim[idx]))\n",
    "    sim_scores = sorted(sim_scores, key=lambda x: x[1], reverse=True)\n",
    "    sim_scores = sim_scores[1:11]  # Get top 10 recommendations\n",
    "    restaurant_indices = [i[0] for i in sim_scores]\n",
    "    return df['restaurant_name'].iloc[restaurant_indices]\n",
    "\n",
    "# Example usage\n",
    "recommended_restaurants = get_recommendations('Restaurant A')\n",
    "print(recommended_restaurants)\n"
   ]
  },
  {
   "cell_type": "code",
   "execution_count": 41,
   "id": "d85a394e",
   "metadata": {},
   "outputs": [
    {
     "name": "stdout",
     "output_type": "stream",
     "text": [
      "Requirement already satisfied: streamlit in c:\\users\\sathya computers\\appdata\\local\\programs\\python\\python313\\lib\\site-packages (1.44.1)\n",
      "Requirement already satisfied: altair<6,>=4.0 in c:\\users\\sathya computers\\appdata\\local\\programs\\python\\python313\\lib\\site-packages (from streamlit) (5.5.0)\n",
      "Requirement already satisfied: blinker<2,>=1.0.0 in c:\\users\\sathya computers\\appdata\\local\\programs\\python\\python313\\lib\\site-packages (from streamlit) (1.9.0)\n",
      "Requirement already satisfied: cachetools<6,>=4.0 in c:\\users\\sathya computers\\appdata\\local\\programs\\python\\python313\\lib\\site-packages (from streamlit) (5.5.2)\n",
      "Requirement already satisfied: click<9,>=7.0 in c:\\users\\sathya computers\\appdata\\local\\programs\\python\\python313\\lib\\site-packages (from streamlit) (8.1.8)\n",
      "Requirement already satisfied: numpy<3,>=1.23 in c:\\users\\sathya computers\\appdata\\local\\programs\\python\\python313\\lib\\site-packages (from streamlit) (2.2.4)\n",
      "Requirement already satisfied: packaging<25,>=20 in c:\\users\\sathya computers\\appdata\\roaming\\python\\python313\\site-packages (from streamlit) (24.2)\n",
      "Requirement already satisfied: pandas<3,>=1.4.0 in c:\\users\\sathya computers\\appdata\\local\\programs\\python\\python313\\lib\\site-packages (from streamlit) (2.2.3)\n",
      "Requirement already satisfied: pillow<12,>=7.1.0 in c:\\users\\sathya computers\\appdata\\local\\programs\\python\\python313\\lib\\site-packages (from streamlit) (11.2.1)\n",
      "Requirement already satisfied: protobuf<6,>=3.20 in c:\\users\\sathya computers\\appdata\\local\\programs\\python\\python313\\lib\\site-packages (from streamlit) (5.29.4)\n",
      "Requirement already satisfied: pyarrow>=7.0 in c:\\users\\sathya computers\\appdata\\local\\programs\\python\\python313\\lib\\site-packages (from streamlit) (19.0.1)\n",
      "Requirement already satisfied: requests<3,>=2.27 in c:\\users\\sathya computers\\appdata\\local\\programs\\python\\python313\\lib\\site-packages (from streamlit) (2.32.3)\n",
      "Requirement already satisfied: tenacity<10,>=8.1.0 in c:\\users\\sathya computers\\appdata\\local\\programs\\python\\python313\\lib\\site-packages (from streamlit) (9.1.2)\n",
      "Requirement already satisfied: toml<2,>=0.10.1 in c:\\users\\sathya computers\\appdata\\local\\programs\\python\\python313\\lib\\site-packages (from streamlit) (0.10.2)\n",
      "Requirement already satisfied: typing-extensions<5,>=4.4.0 in c:\\users\\sathya computers\\appdata\\local\\programs\\python\\python313\\lib\\site-packages (from streamlit) (4.13.2)\n",
      "Requirement already satisfied: watchdog<7,>=2.1.5 in c:\\users\\sathya computers\\appdata\\local\\programs\\python\\python313\\lib\\site-packages (from streamlit) (6.0.0)\n",
      "Requirement already satisfied: gitpython!=3.1.19,<4,>=3.0.7 in c:\\users\\sathya computers\\appdata\\local\\programs\\python\\python313\\lib\\site-packages (from streamlit) (3.1.44)\n",
      "Requirement already satisfied: pydeck<1,>=0.8.0b4 in c:\\users\\sathya computers\\appdata\\local\\programs\\python\\python313\\lib\\site-packages (from streamlit) (0.9.1)\n",
      "Requirement already satisfied: tornado<7,>=6.0.3 in c:\\users\\sathya computers\\appdata\\roaming\\python\\python313\\site-packages (from streamlit) (6.4.2)\n",
      "Requirement already satisfied: jinja2 in c:\\users\\sathya computers\\appdata\\local\\programs\\python\\python313\\lib\\site-packages (from altair<6,>=4.0->streamlit) (3.1.6)\n",
      "Requirement already satisfied: jsonschema>=3.0 in c:\\users\\sathya computers\\appdata\\local\\programs\\python\\python313\\lib\\site-packages (from altair<6,>=4.0->streamlit) (4.23.0)\n",
      "Requirement already satisfied: narwhals>=1.14.2 in c:\\users\\sathya computers\\appdata\\local\\programs\\python\\python313\\lib\\site-packages (from altair<6,>=4.0->streamlit) (1.34.1)\n",
      "Requirement already satisfied: colorama in c:\\users\\sathya computers\\appdata\\roaming\\python\\python313\\site-packages (from click<9,>=7.0->streamlit) (0.4.6)\n",
      "Requirement already satisfied: gitdb<5,>=4.0.1 in c:\\users\\sathya computers\\appdata\\local\\programs\\python\\python313\\lib\\site-packages (from gitpython!=3.1.19,<4,>=3.0.7->streamlit) (4.0.12)\n",
      "Requirement already satisfied: python-dateutil>=2.8.2 in c:\\users\\sathya computers\\appdata\\roaming\\python\\python313\\site-packages (from pandas<3,>=1.4.0->streamlit) (2.9.0.post0)\n",
      "Requirement already satisfied: pytz>=2020.1 in c:\\users\\sathya computers\\appdata\\local\\programs\\python\\python313\\lib\\site-packages (from pandas<3,>=1.4.0->streamlit) (2025.2)\n",
      "Requirement already satisfied: tzdata>=2022.7 in c:\\users\\sathya computers\\appdata\\local\\programs\\python\\python313\\lib\\site-packages (from pandas<3,>=1.4.0->streamlit) (2025.2)\n",
      "Requirement already satisfied: charset-normalizer<4,>=2 in c:\\users\\sathya computers\\appdata\\local\\programs\\python\\python313\\lib\\site-packages (from requests<3,>=2.27->streamlit) (3.4.1)\n",
      "Requirement already satisfied: idna<4,>=2.5 in c:\\users\\sathya computers\\appdata\\local\\programs\\python\\python313\\lib\\site-packages (from requests<3,>=2.27->streamlit) (3.10)\n",
      "Requirement already satisfied: urllib3<3,>=1.21.1 in c:\\users\\sathya computers\\appdata\\local\\programs\\python\\python313\\lib\\site-packages (from requests<3,>=2.27->streamlit) (2.4.0)\n",
      "Requirement already satisfied: certifi>=2017.4.17 in c:\\users\\sathya computers\\appdata\\local\\programs\\python\\python313\\lib\\site-packages (from requests<3,>=2.27->streamlit) (2025.1.31)\n",
      "Requirement already satisfied: smmap<6,>=3.0.1 in c:\\users\\sathya computers\\appdata\\local\\programs\\python\\python313\\lib\\site-packages (from gitdb<5,>=4.0.1->gitpython!=3.1.19,<4,>=3.0.7->streamlit) (5.0.2)\n",
      "Requirement already satisfied: MarkupSafe>=2.0 in c:\\users\\sathya computers\\appdata\\local\\programs\\python\\python313\\lib\\site-packages (from jinja2->altair<6,>=4.0->streamlit) (3.0.2)\n",
      "Requirement already satisfied: attrs>=22.2.0 in c:\\users\\sathya computers\\appdata\\local\\programs\\python\\python313\\lib\\site-packages (from jsonschema>=3.0->altair<6,>=4.0->streamlit) (25.3.0)\n",
      "Requirement already satisfied: jsonschema-specifications>=2023.03.6 in c:\\users\\sathya computers\\appdata\\local\\programs\\python\\python313\\lib\\site-packages (from jsonschema>=3.0->altair<6,>=4.0->streamlit) (2024.10.1)\n",
      "Requirement already satisfied: referencing>=0.28.4 in c:\\users\\sathya computers\\appdata\\local\\programs\\python\\python313\\lib\\site-packages (from jsonschema>=3.0->altair<6,>=4.0->streamlit) (0.36.2)\n",
      "Requirement already satisfied: rpds-py>=0.7.1 in c:\\users\\sathya computers\\appdata\\local\\programs\\python\\python313\\lib\\site-packages (from jsonschema>=3.0->altair<6,>=4.0->streamlit) (0.24.0)\n",
      "Requirement already satisfied: six>=1.5 in c:\\users\\sathya computers\\appdata\\roaming\\python\\python313\\site-packages (from python-dateutil>=2.8.2->pandas<3,>=1.4.0->streamlit) (1.17.0)\n"
     ]
    },
    {
     "name": "stderr",
     "output_type": "stream",
     "text": [
      "\n",
      "[notice] A new release of pip is available: 24.3.1 -> 25.0.1\n",
      "[notice] To update, run: python.exe -m pip install --upgrade pip\n"
     ]
    },
    {
     "name": "stdout",
     "output_type": "stream",
     "text": [
      "Note: you may need to restart the kernel to use updated packages.\n"
     ]
    }
   ],
   "source": [
    "pip install streamlit\n"
   ]
  },
  {
   "cell_type": "code",
   "execution_count": 47,
   "id": "24da274a",
   "metadata": {},
   "outputs": [
    {
     "name": "stdout",
     "output_type": "stream",
     "text": [
      "[WinError 2] The system cannot find the file specified: 'C:\\\\Users\\\\Sathya Computers\\\\Documents\\\\YourFolder'\n",
      "c:\\Users\\SATHYA COMPUTERS\\Documents\\swiggy's restaurant streamlit.project4\n"
     ]
    }
   ],
   "source": [
    "cd \"C:\\Users\\Sathya Computers\\Documents\\YourFolder\"\n"
   ]
  },
  {
   "cell_type": "code",
   "execution_count": 63,
   "id": "259d860d",
   "metadata": {},
   "outputs": [],
   "source": [
    "import random\n",
    "\n",
    "# Add a fake location column if it doesn't exist\n",
    "if 'location' not in df.columns:\n",
    "    fake_locations = ['Bangalore', 'Mumbai', 'Delhi', 'Chennai']\n",
    "    df['location'] = [random.choice(fake_locations) for _ in range(len(df))]\n"
   ]
  },
  {
   "cell_type": "code",
   "execution_count": 62,
   "id": "6c5fa453",
   "metadata": {},
   "outputs": [
    {
     "name": "stdout",
     "output_type": "stream",
     "text": [
      "Index(['restaurant_name', 'cuisine', 'rating', 'description', 'image_url',\n",
      "       'location'],\n",
      "      dtype='object')\n"
     ]
    }
   ],
   "source": [
    "print(df.columns)\n"
   ]
  },
  {
   "cell_type": "code",
   "execution_count": 72,
   "id": "89881af4",
   "metadata": {},
   "outputs": [
    {
     "name": "stdout",
     "output_type": "stream",
     "text": [
      "Index(['restaurant_name', 'cuisine', 'rating', 'description', 'image_url',\n",
      "       'location'],\n",
      "      dtype='object')\n"
     ]
    }
   ],
   "source": [
    "print(df.columns)\n"
   ]
  },
  {
   "cell_type": "code",
   "execution_count": 82,
   "id": "7e4a92d9",
   "metadata": {},
   "outputs": [
    {
     "name": "stdout",
     "output_type": "stream",
     "text": [
      "  restaurant_name           cuisine location  \\\n",
      "0    Restaurant A    Italian, Pizza  Chennai   \n",
      "1    Restaurant B  Chinese, Noodles   Mumbai   \n",
      "2    Restaurant C     Indian, Curry  Chennai   \n",
      "3    Restaurant D    Italian, Pasta  Chennai   \n",
      "\n",
      "                      combined_features  \n",
      "0   Restaurant A Italian, Pizza Chennai  \n",
      "1  Restaurant B Chinese, Noodles Mumbai  \n",
      "2    Restaurant C Indian, Curry Chennai  \n",
      "3   Restaurant D Italian, Pasta Chennai  \n"
     ]
    }
   ],
   "source": [
    "# Assuming 'location' is the correct column name\n",
    "df['combined_features'] = df['restaurant_name'].astype(str) + ' ' + df['cuisine'].astype(str) + ' ' + df['location'].astype(str)\n",
    "\n",
    "# Verify the new column was created\n",
    "print(df[['restaurant_name', 'cuisine', 'location', 'combined_features']].head())\n"
   ]
  },
  {
   "cell_type": "code",
   "execution_count": 74,
   "id": "db378e02",
   "metadata": {},
   "outputs": [
    {
     "name": "stdout",
     "output_type": "stream",
     "text": [
      "TF-IDF Matrix Shape: (4, 10)\n"
     ]
    }
   ],
   "source": [
    "from sklearn.feature_extraction.text import TfidfVectorizer\n",
    "\n",
    "# Initialize the TF-IDF Vectorizer\n",
    "tfidf = TfidfVectorizer(stop_words='english')\n",
    "\n",
    "# Convert the combined features into numerical vectors\n",
    "tfidf_matrix = tfidf.fit_transform(df['combined_features'])\n",
    "\n",
    "# Check the shape of the resulting matrix\n",
    "print(f\"TF-IDF Matrix Shape: {tfidf_matrix.shape}\")\n"
   ]
  },
  {
   "cell_type": "code",
   "execution_count": 75,
   "id": "e25e716d",
   "metadata": {},
   "outputs": [
    {
     "name": "stdout",
     "output_type": "stream",
     "text": [
      "[[1.         0.09923406 0.27371692 0.56546707]\n",
      " [0.09923406 1.         0.09196106 0.09923406]\n",
      " [0.27371692 0.09196106 1.         0.27371692]\n",
      " [0.56546707 0.09923406 0.27371692 1.        ]]\n"
     ]
    }
   ],
   "source": [
    "from sklearn.metrics.pairwise import cosine_similarity\n",
    "\n",
    "# Compute cosine similarity between all restaurants\n",
    "cosine_sim = cosine_similarity(tfidf_matrix, tfidf_matrix)\n",
    "\n",
    "# Check the cosine similarity matrix\n",
    "print(cosine_sim)\n"
   ]
  },
  {
   "cell_type": "code",
   "execution_count": 77,
   "id": "01d4886b",
   "metadata": {},
   "outputs": [
    {
     "name": "stdout",
     "output_type": "stream",
     "text": [
      "0    Restaurant A\n",
      "1    Restaurant B\n",
      "2    Restaurant C\n",
      "3    Restaurant D\n",
      "Name: restaurant_name, dtype: object\n"
     ]
    }
   ],
   "source": [
    "print(df['restaurant_name'].head())  # Print the first few restaurant names to verify\n"
   ]
  },
  {
   "cell_type": "code",
   "execution_count": 78,
   "id": "995bb077",
   "metadata": {},
   "outputs": [
    {
     "name": "stdout",
     "output_type": "stream",
     "text": [
      "Restaurant not found in the dataset.\n"
     ]
    }
   ],
   "source": [
    "def get_recommendations(restaurant_name, cosine_sim=cosine_sim):\n",
    "    # Check if the restaurant name exists in the dataset\n",
    "    if restaurant_name not in df['restaurant_name'].values:\n",
    "        return \"Restaurant not found in the dataset.\"\n",
    "    \n",
    "    # Get the index of the restaurant that matches the name\n",
    "    idx = df.index[df['restaurant_name'] == restaurant_name].tolist()[0]\n",
    "    \n",
    "    # Get the pairwise similarity scores for the restaurant\n",
    "    sim_scores = list(enumerate(cosine_sim[idx]))\n",
    "    \n",
    "    # Sort the restaurants based on similarity scores\n",
    "    sim_scores = sorted(sim_scores, key=lambda x: x[1], reverse=True)\n",
    "    \n",
    "    # Get the indices of the most similar restaurants\n",
    "    sim_scores = sim_scores[1:11]  # Get top 10 similar restaurants\n",
    "    \n",
    "    # Get the restaurant indices\n",
    "    restaurant_indices = [i[0] for i in sim_scores]\n",
    "    \n",
    "    # Return the top 10 most similar restaurants\n",
    "    return df['restaurant_name'].iloc[restaurant_indices]\n",
    "\n",
    "# Example: Get recommendations for a valid restaurant name\n",
    "restaurant_name = \"Valid Restaurant Name\"  # Replace with an actual restaurant name from the dataset\n",
    "print(get_recommendations(restaurant_name))\n"
   ]
  },
  {
   "cell_type": "code",
   "execution_count": 79,
   "id": "f94f2a0d",
   "metadata": {},
   "outputs": [
    {
     "name": "stdout",
     "output_type": "stream",
     "text": [
      "Restaurant not found in the dataset.\n"
     ]
    }
   ],
   "source": [
    "# Example: Test with a valid restaurant name\n",
    "restaurant_name = \"Example Restaurant Name\"  # Replace with an actual restaurant name from the dataset\n",
    "recommendations = get_recommendations(restaurant_name)\n",
    "print(recommendations)\n"
   ]
  }
 ],
 "metadata": {
  "kernelspec": {
   "display_name": "Python 3",
   "language": "python",
   "name": "python3"
  },
  "language_info": {
   "codemirror_mode": {
    "name": "ipython",
    "version": 3
   },
   "file_extension": ".py",
   "mimetype": "text/x-python",
   "name": "python",
   "nbconvert_exporter": "python",
   "pygments_lexer": "ipython3",
   "version": "3.13.2"
  }
 },
 "nbformat": 4,
 "nbformat_minor": 5
}
